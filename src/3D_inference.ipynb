{
  "cells": [
    {
      "cell_type": "code",
      "execution_count": 39,
      "metadata": {
        "colab": {
          "base_uri": "https://localhost:8080/"
        },
        "id": "Rk3VoCs1d7Pm",
        "outputId": "30acafea-915f-47a3-9308-41546b8602b9"
      },
      "outputs": [
        {
          "output_type": "stream",
          "name": "stdout",
          "text": [
            "Drive already mounted at /content/drive; to attempt to forcibly remount, call drive.mount(\"/content/drive\", force_remount=True).\n"
          ]
        }
      ],
      "source": [
        "from google.colab import drive\n",
        "drive.mount('/content/drive')"
      ]
    },
    {
      "cell_type": "code",
      "execution_count": 40,
      "metadata": {
        "colab": {
          "base_uri": "https://localhost:8080/"
        },
        "id": "DSVW_OoZ5hpt",
        "outputId": "fefb1712-7b27-40c5-b12a-b009162954d4"
      },
      "outputs": [
        {
          "output_type": "stream",
          "name": "stdout",
          "text": [
            "/content/drive/MyDrive/data/3d data\n"
          ]
        }
      ],
      "source": [
        "%cd \"/content/drive/MyDrive/data/3d data\""
      ]
    },
    {
      "cell_type": "code",
      "execution_count": 41,
      "metadata": {
        "colab": {
          "base_uri": "https://localhost:8080/"
        },
        "id": "EDo0tPj1--c6",
        "outputId": "d27d6175-8666-4b52-d9e7-02517d87be15"
      },
      "outputs": [
        {
          "output_type": "stream",
          "name": "stdout",
          "text": [
            "Looking in indexes: https://pypi.org/simple, https://us-python.pkg.dev/colab-wheels/public/simple/\n",
            "Requirement already satisfied: torchio in /usr/local/lib/python3.7/dist-packages (0.18.84)\n",
            "Requirement already satisfied: click in /usr/local/lib/python3.7/dist-packages (from torchio) (7.1.2)\n",
            "Requirement already satisfied: tqdm in /usr/local/lib/python3.7/dist-packages (from torchio) (4.64.0)\n",
            "Requirement already satisfied: numpy>=1.15 in /usr/local/lib/python3.7/dist-packages (from torchio) (1.21.6)\n",
            "Requirement already satisfied: torch>=1.1 in /usr/local/lib/python3.7/dist-packages (from torchio) (1.12.1+cu113)\n",
            "Requirement already satisfied: nibabel in /usr/local/lib/python3.7/dist-packages (from torchio) (3.0.2)\n",
            "Requirement already satisfied: SimpleITK!=2.0.*,!=2.1.1.1 in /usr/local/lib/python3.7/dist-packages (from torchio) (2.2.0)\n",
            "Requirement already satisfied: Deprecated in /usr/local/lib/python3.7/dist-packages (from torchio) (1.2.13)\n",
            "Requirement already satisfied: humanize in /usr/local/lib/python3.7/dist-packages (from torchio) (0.5.1)\n",
            "Requirement already satisfied: scipy in /usr/local/lib/python3.7/dist-packages (from torchio) (1.7.3)\n",
            "Requirement already satisfied: typing-extensions in /usr/local/lib/python3.7/dist-packages (from torch>=1.1->torchio) (4.1.1)\n",
            "Requirement already satisfied: wrapt<2,>=1.10 in /usr/local/lib/python3.7/dist-packages (from Deprecated->torchio) (1.14.1)\n",
            "Looking in indexes: https://pypi.org/simple, https://us-python.pkg.dev/colab-wheels/public/simple/\n",
            "Collecting git+https://github.com/shijianjian/EfficientNet-PyTorch-3D\n",
            "  Cloning https://github.com/shijianjian/EfficientNet-PyTorch-3D to /tmp/pip-req-build-2x_4q06a\n",
            "  Running command git clone -q https://github.com/shijianjian/EfficientNet-PyTorch-3D /tmp/pip-req-build-2x_4q06a\n",
            "Requirement already satisfied: torch in /usr/local/lib/python3.7/dist-packages (from efficientnet-pytorch-3d==0.6.3) (1.12.1+cu113)\n",
            "Requirement already satisfied: typing-extensions in /usr/local/lib/python3.7/dist-packages (from torch->efficientnet-pytorch-3d==0.6.3) (4.1.1)\n"
          ]
        }
      ],
      "source": [
        "!pip install torchio\n",
        "!pip install git+https://github.com/shijianjian/EfficientNet-PyTorch-3D"
      ]
    },
    {
      "cell_type": "code",
      "execution_count": 42,
      "metadata": {
        "id": "WseP8DjmrMG4"
      },
      "outputs": [],
      "source": [
        "import h5py # .h5 파일을 읽기 위한 패키지\n",
        "import random\n",
        "import pandas as pd\n",
        "import numpy as np\n",
        "import os\n",
        "import glob\n",
        "\n",
        "import torch\n",
        "import torch.nn as nn\n",
        "import torch.optim as optim\n",
        "import torch.nn.functional as F\n",
        "from torch.utils.data import Dataset, DataLoader\n",
        "import copy\n",
        "import torchio as tio\n",
        "from torchio.transforms import ZNormalization\n",
        "\n",
        "from efficientnet_pytorch_3d import EfficientNet3D\n",
        "\n",
        "from typing import Sequence, Callable\n",
        "from tqdm.auto import tqdm\n",
        "\n",
        "from sklearn.metrics import accuracy_score\n",
        "\n",
        "import warnings\n",
        "warnings.filterwarnings(action='ignore') "
      ]
    },
    {
      "cell_type": "code",
      "execution_count": 43,
      "metadata": {
        "id": "ewhzH5Rir_mL"
      },
      "outputs": [],
      "source": [
        "CFG = {\n",
        "    'BATCH_SIZE':128,\n",
        "}"
      ]
    },
    {
      "cell_type": "code",
      "execution_count": 44,
      "metadata": {
        "id": "_cQOde45rJ74"
      },
      "outputs": [],
      "source": [
        "class CustomDataset(Dataset):\n",
        "    def __init__(self, id_list, label_list, point_list, transforms= Sequence[Callable]):\n",
        "        self.id_list = id_list\n",
        "        self.label_list = label_list\n",
        "        self.point_list = point_list\n",
        "        self.transforms = transforms\n",
        "    def __getitem__(self, index):\n",
        "        image_id = self.id_list[index]\n",
        "        \n",
        "        # h5파일을 바로 접근하여 사용하면 학습 속도가 병목 현상으로 많이 느릴 수 있습니다.\n",
        "        points = self.point_list[str(image_id)][:]\n",
        "        image = self.get_vector(points)\n",
        "\n",
        "        if self.label_list is not None:\n",
        "            label = self.label_list[index]\n",
        "            image=torch.Tensor(image).unsqueeze(0)\n",
        "            if self.transforms is not None:\n",
        "              image = self.transforms(image)\n",
        "            return image, label\n",
        "        else:\n",
        "            image=torch.Tensor(image).unsqueeze(0)\n",
        "            if self.transforms is not None:\n",
        "              image = self.transforms(image)\n",
        "            return image\n",
        "    \n",
        "    def get_vector(self, points, x_y_z=[16, 16, 16]):\n",
        "        # 3D Points -> [16,16,16]\n",
        "        xyzmin = np.min(points, axis=0) - 0.001\n",
        "        xyzmax = np.max(points, axis=0) + 0.001\n",
        "\n",
        "        diff = max(xyzmax-xyzmin) - (xyzmax-xyzmin)\n",
        "        xyzmin = xyzmin - diff / 2\n",
        "        xyzmax = xyzmax + diff / 2\n",
        "\n",
        "        segments = []\n",
        "        shape = []\n",
        "\n",
        "        for i in range(3):\n",
        "            # note the +1 in num \n",
        "            if type(x_y_z[i]) is not int:\n",
        "                raise TypeError(\"x_y_z[{}] must be int\".format(i))\n",
        "            s, step = np.linspace(xyzmin[i], xyzmax[i], num=(x_y_z[i] + 1), retstep=True)\n",
        "            segments.append(s)\n",
        "            shape.append(step)\n",
        "\n",
        "        n_voxels = x_y_z[0] * x_y_z[1] * x_y_z[2]\n",
        "        n_x = x_y_z[0]\n",
        "        n_y = x_y_z[1]\n",
        "        n_z = x_y_z[2]\n",
        "\n",
        "        structure = np.zeros((len(points), 4), dtype=int)\n",
        "        structure[:,0] = np.searchsorted(segments[0], points[:,0]) - 1\n",
        "        structure[:,1] = np.searchsorted(segments[1], points[:,1]) - 1\n",
        "        structure[:,2] = np.searchsorted(segments[2], points[:,2]) - 1\n",
        "\n",
        "        # i = ((y * n_x) + x) + (z * (n_x * n_y))\n",
        "        structure[:,3] = ((structure[:,1] * n_x) + structure[:,0]) + (structure[:,2] * (n_x * n_y)) \n",
        "\n",
        "        vector = np.zeros(n_voxels)\n",
        "        count = np.bincount(structure[:,3])\n",
        "        vector[:len(count)] = count\n",
        "\n",
        "        vector = vector.reshape(n_z, n_y, n_x)\n",
        "\n",
        "        return vector\n",
        "\n",
        "    def __len__(self):\n",
        "        return len(self.id_list)"
      ]
    },
    {
      "cell_type": "code",
      "execution_count": 45,
      "metadata": {
        "id": "J9_OMHU8o2Yp"
      },
      "outputs": [],
      "source": [
        "#override_params={'num_classes': 10},\n",
        "class BaseModel(nn.Module):\n",
        "    def __init__(self,cnn_model=None):\n",
        "        super(BaseModel,self).__init__()\n",
        "        if cnn_model=='eff3':\n",
        "          self.model = EfficientNet3D.from_name(\"efficientnet-b3\",override_params={'num_classes': 10},  in_channels=1)\n",
        "        elif cnn_model=='eff0':\n",
        "          self.model = EfficientNet3D.from_name(\"efficientnet-b0\",override_params={'num_classes': 10},  in_channels=1)\n",
        "        elif cnn_model=='eff4':\n",
        "          self.model = EfficientNet3D.from_name(\"efficientnet-b4\",override_params={'num_classes': 10},  in_channels=1)\n",
        "\n",
        "    def forward(self,x):\n",
        "\n",
        "        x = self.model(x)\n",
        "\n",
        "        return x"
      ]
    },
    {
      "cell_type": "code",
      "execution_count": 46,
      "metadata": {
        "id": "GoKgSmPQqr7m"
      },
      "outputs": [],
      "source": [
        "#override_params={'num_classes': 10},\n",
        "class MoreModel(nn.Module):\n",
        "    def __init__(self,cnn_model=None):\n",
        "        super(MoreModel,self).__init__()\n",
        "        if cnn_model=='eff3':\n",
        "          self.model = EfficientNet3D.from_name(\"efficientnet-b3\",  in_channels=1)\n",
        "        elif cnn_model=='eff0':\n",
        "          self.model = EfficientNet3D.from_name(\"efficientnet-b0\",  in_channels=1)\n",
        "        elif cnn_model=='eff4':\n",
        "          self.model = EfficientNet3D.from_name(\"efficientnet-b4\",  in_channels=1)\n",
        "        self.SiLU=nn.SiLU(inplace=False)\n",
        "        self.dropout=nn.Dropout(p=0.2)\n",
        "        self.classifier = nn.Linear(1000, 10)\n",
        "        nn.init.xavier_normal_(self.classifier.weight)\n",
        "\n",
        "    def forward(self,x):\n",
        "\n",
        "        x = self.model(x)\n",
        "        x = self.SiLU(x)\n",
        "        x = self.dropout(x)\n",
        "        x = self.classifier(x)\n",
        "        return x"
      ]
    },
    {
      "cell_type": "code",
      "execution_count": 47,
      "metadata": {
        "id": "5spk3NINqxbU"
      },
      "outputs": [],
      "source": [
        "test_df = pd.read_csv('./sample_submission.csv')\n",
        "test_points = h5py.File('./test.h5', 'r')"
      ]
    },
    {
      "cell_type": "code",
      "execution_count": 48,
      "metadata": {
        "id": "DO--2NdxpJjh"
      },
      "outputs": [],
      "source": [
        "test_transform = tio.Compose([\n",
        "\n",
        "    tio.Resize((128,128,128)),\n",
        "    ZNormalization(),\n",
        "])"
      ]
    },
    {
      "cell_type": "code",
      "execution_count": 49,
      "metadata": {
        "id": "J2hr5-Axq6dv"
      },
      "outputs": [],
      "source": [
        "test_dataset = CustomDataset(test_df['ID'].values, None, test_points,transforms=test_transform)\n",
        "test_loader = DataLoader(test_dataset, batch_size=CFG['BATCH_SIZE'], shuffle=False, num_workers=4)"
      ]
    },
    {
      "cell_type": "code",
      "execution_count": 50,
      "metadata": {
        "id": "MgIBYar2dXuB"
      },
      "outputs": [],
      "source": [
        "device = torch.device('cuda') if torch.cuda.is_available() else torch.device('cpu')"
      ]
    },
    {
      "cell_type": "code",
      "source": [
        "models={\"eff4 solution 72 LR Ap degree 70\":\"eff4\",\n",
        "}\n",
        "\n"
      ],
      "metadata": {
        "id": "JnO-gtllKF7o"
      },
      "execution_count": 51,
      "outputs": []
    },
    {
      "cell_type": "code",
      "source": [
        "best_models = []\n",
        "for k, v in models.items():\n",
        "  model=MoreModel(cnn_model=v)\n",
        "  model.load_state_dict(torch.load('/content/drive/MyDrive/data/3d data/models/{}.pt'.format(k), map_location=device), strict=False)\n",
        "  best_models.append(copy.deepcopy(model))\n"
      ],
      "metadata": {
        "id": "Tz01nTSrMHW6"
      },
      "execution_count": 52,
      "outputs": []
    },
    {
      "cell_type": "code",
      "execution_count": 53,
      "metadata": {
        "id": "EsnK6vGvq8J_"
      },
      "outputs": [],
      "source": [
        "def predict(test_loader, device):\n",
        "\n",
        "    model_preds = []\n",
        "    with torch.no_grad():\n",
        "        for data in tqdm(iter(test_loader)):\n",
        "          batch_pred=0\n",
        "          data = data.float().to(device)\n",
        "          with torch.cuda.amp.autocast():\n",
        "            for model in best_models:\n",
        "              model.to(device)\n",
        "              model.eval()\n",
        "              batch_pred += model(data)\n",
        "            model_preds += batch_pred.argmax(1).detach().cpu().numpy().tolist()\n",
        "    \n",
        "    return model_preds"
      ]
    },
    {
      "cell_type": "code",
      "execution_count": null,
      "metadata": {
        "id": "fj4sHDfRq86f"
      },
      "outputs": [],
      "source": [
        "preds = predict(test_loader, device)"
      ]
    },
    {
      "cell_type": "code",
      "execution_count": null,
      "metadata": {
        "id": "CvgeVXMfq9ww"
      },
      "outputs": [],
      "source": [
        "test_df['label'] = preds\n",
        "test_df.to_csv('./submit.csv', index=False)"
      ]
    }
  ],
  "metadata": {
    "colab": {
      "collapsed_sections": [],
      "machine_shape": "hm",
      "provenance": []
    },
    "gpuClass": "standard",
    "kernelspec": {
      "display_name": "Python 3",
      "name": "python3"
    },
    "language_info": {
      "name": "python"
    }
  },
  "nbformat": 4,
  "nbformat_minor": 0
}