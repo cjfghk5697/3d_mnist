{
  "nbformat": 4,
  "nbformat_minor": 0,
  "metadata": {
    "colab": {
      "name": "3D inference.ipynb",
      "provenance": [],
      "collapsed_sections": [],
      "machine_shape": "hm"
    },
    "kernelspec": {
      "name": "python3",
      "display_name": "Python 3"
    },
    "language_info": {
      "name": "python"
    },
    "accelerator": "GPU",
    "gpuClass": "standard",
    "widgets": {
      "application/vnd.jupyter.widget-state+json": {
        "aa942dcf38554b028da3d2d0857a6855": {
          "model_module": "@jupyter-widgets/controls",
          "model_name": "HBoxModel",
          "model_module_version": "1.5.0",
          "state": {
            "_dom_classes": [],
            "_model_module": "@jupyter-widgets/controls",
            "_model_module_version": "1.5.0",
            "_model_name": "HBoxModel",
            "_view_count": null,
            "_view_module": "@jupyter-widgets/controls",
            "_view_module_version": "1.5.0",
            "_view_name": "HBoxView",
            "box_style": "",
            "children": [
              "IPY_MODEL_c8af0139c9cc4bfe80b32af501d716c8",
              "IPY_MODEL_a303db8c945441de9e7f656ebdd319ce",
              "IPY_MODEL_c3e7c6efe0c948c4bfd4c06ab75e1cd9"
            ],
            "layout": "IPY_MODEL_c794a509f82840b3a3635104523738e0"
          }
        },
        "c8af0139c9cc4bfe80b32af501d716c8": {
          "model_module": "@jupyter-widgets/controls",
          "model_name": "HTMLModel",
          "model_module_version": "1.5.0",
          "state": {
            "_dom_classes": [],
            "_model_module": "@jupyter-widgets/controls",
            "_model_module_version": "1.5.0",
            "_model_name": "HTMLModel",
            "_view_count": null,
            "_view_module": "@jupyter-widgets/controls",
            "_view_module_version": "1.5.0",
            "_view_name": "HTMLView",
            "description": "",
            "description_tooltip": null,
            "layout": "IPY_MODEL_9b229cadac4e454fa44a32183271eda8",
            "placeholder": "​",
            "style": "IPY_MODEL_e2004a6a3f8d4d5cbca7189d9f82f57d",
            "value": " 18%"
          }
        },
        "a303db8c945441de9e7f656ebdd319ce": {
          "model_module": "@jupyter-widgets/controls",
          "model_name": "FloatProgressModel",
          "model_module_version": "1.5.0",
          "state": {
            "_dom_classes": [],
            "_model_module": "@jupyter-widgets/controls",
            "_model_module_version": "1.5.0",
            "_model_name": "FloatProgressModel",
            "_view_count": null,
            "_view_module": "@jupyter-widgets/controls",
            "_view_module_version": "1.5.0",
            "_view_name": "ProgressView",
            "bar_style": "",
            "description": "",
            "description_tooltip": null,
            "layout": "IPY_MODEL_1dafe84c995c4d8e9014cfa15be2a0fd",
            "max": 2500,
            "min": 0,
            "orientation": "horizontal",
            "style": "IPY_MODEL_b8bb284c16d14760845348a5a6e07c32",
            "value": 443
          }
        },
        "c3e7c6efe0c948c4bfd4c06ab75e1cd9": {
          "model_module": "@jupyter-widgets/controls",
          "model_name": "HTMLModel",
          "model_module_version": "1.5.0",
          "state": {
            "_dom_classes": [],
            "_model_module": "@jupyter-widgets/controls",
            "_model_module_version": "1.5.0",
            "_model_name": "HTMLModel",
            "_view_count": null,
            "_view_module": "@jupyter-widgets/controls",
            "_view_module_version": "1.5.0",
            "_view_name": "HTMLView",
            "description": "",
            "description_tooltip": null,
            "layout": "IPY_MODEL_bb6d10a3cce04ed887dc4620fdad125b",
            "placeholder": "​",
            "style": "IPY_MODEL_653d658eb6224bf68b21ed1ec32f25ea",
            "value": " 442/2500 [01:04&lt;08:32,  4.02it/s]"
          }
        },
        "c794a509f82840b3a3635104523738e0": {
          "model_module": "@jupyter-widgets/base",
          "model_name": "LayoutModel",
          "model_module_version": "1.2.0",
          "state": {
            "_model_module": "@jupyter-widgets/base",
            "_model_module_version": "1.2.0",
            "_model_name": "LayoutModel",
            "_view_count": null,
            "_view_module": "@jupyter-widgets/base",
            "_view_module_version": "1.2.0",
            "_view_name": "LayoutView",
            "align_content": null,
            "align_items": null,
            "align_self": null,
            "border": null,
            "bottom": null,
            "display": null,
            "flex": null,
            "flex_flow": null,
            "grid_area": null,
            "grid_auto_columns": null,
            "grid_auto_flow": null,
            "grid_auto_rows": null,
            "grid_column": null,
            "grid_gap": null,
            "grid_row": null,
            "grid_template_areas": null,
            "grid_template_columns": null,
            "grid_template_rows": null,
            "height": null,
            "justify_content": null,
            "justify_items": null,
            "left": null,
            "margin": null,
            "max_height": null,
            "max_width": null,
            "min_height": null,
            "min_width": null,
            "object_fit": null,
            "object_position": null,
            "order": null,
            "overflow": null,
            "overflow_x": null,
            "overflow_y": null,
            "padding": null,
            "right": null,
            "top": null,
            "visibility": null,
            "width": null
          }
        },
        "9b229cadac4e454fa44a32183271eda8": {
          "model_module": "@jupyter-widgets/base",
          "model_name": "LayoutModel",
          "model_module_version": "1.2.0",
          "state": {
            "_model_module": "@jupyter-widgets/base",
            "_model_module_version": "1.2.0",
            "_model_name": "LayoutModel",
            "_view_count": null,
            "_view_module": "@jupyter-widgets/base",
            "_view_module_version": "1.2.0",
            "_view_name": "LayoutView",
            "align_content": null,
            "align_items": null,
            "align_self": null,
            "border": null,
            "bottom": null,
            "display": null,
            "flex": null,
            "flex_flow": null,
            "grid_area": null,
            "grid_auto_columns": null,
            "grid_auto_flow": null,
            "grid_auto_rows": null,
            "grid_column": null,
            "grid_gap": null,
            "grid_row": null,
            "grid_template_areas": null,
            "grid_template_columns": null,
            "grid_template_rows": null,
            "height": null,
            "justify_content": null,
            "justify_items": null,
            "left": null,
            "margin": null,
            "max_height": null,
            "max_width": null,
            "min_height": null,
            "min_width": null,
            "object_fit": null,
            "object_position": null,
            "order": null,
            "overflow": null,
            "overflow_x": null,
            "overflow_y": null,
            "padding": null,
            "right": null,
            "top": null,
            "visibility": null,
            "width": null
          }
        },
        "e2004a6a3f8d4d5cbca7189d9f82f57d": {
          "model_module": "@jupyter-widgets/controls",
          "model_name": "DescriptionStyleModel",
          "model_module_version": "1.5.0",
          "state": {
            "_model_module": "@jupyter-widgets/controls",
            "_model_module_version": "1.5.0",
            "_model_name": "DescriptionStyleModel",
            "_view_count": null,
            "_view_module": "@jupyter-widgets/base",
            "_view_module_version": "1.2.0",
            "_view_name": "StyleView",
            "description_width": ""
          }
        },
        "1dafe84c995c4d8e9014cfa15be2a0fd": {
          "model_module": "@jupyter-widgets/base",
          "model_name": "LayoutModel",
          "model_module_version": "1.2.0",
          "state": {
            "_model_module": "@jupyter-widgets/base",
            "_model_module_version": "1.2.0",
            "_model_name": "LayoutModel",
            "_view_count": null,
            "_view_module": "@jupyter-widgets/base",
            "_view_module_version": "1.2.0",
            "_view_name": "LayoutView",
            "align_content": null,
            "align_items": null,
            "align_self": null,
            "border": null,
            "bottom": null,
            "display": null,
            "flex": null,
            "flex_flow": null,
            "grid_area": null,
            "grid_auto_columns": null,
            "grid_auto_flow": null,
            "grid_auto_rows": null,
            "grid_column": null,
            "grid_gap": null,
            "grid_row": null,
            "grid_template_areas": null,
            "grid_template_columns": null,
            "grid_template_rows": null,
            "height": null,
            "justify_content": null,
            "justify_items": null,
            "left": null,
            "margin": null,
            "max_height": null,
            "max_width": null,
            "min_height": null,
            "min_width": null,
            "object_fit": null,
            "object_position": null,
            "order": null,
            "overflow": null,
            "overflow_x": null,
            "overflow_y": null,
            "padding": null,
            "right": null,
            "top": null,
            "visibility": null,
            "width": null
          }
        },
        "b8bb284c16d14760845348a5a6e07c32": {
          "model_module": "@jupyter-widgets/controls",
          "model_name": "ProgressStyleModel",
          "model_module_version": "1.5.0",
          "state": {
            "_model_module": "@jupyter-widgets/controls",
            "_model_module_version": "1.5.0",
            "_model_name": "ProgressStyleModel",
            "_view_count": null,
            "_view_module": "@jupyter-widgets/base",
            "_view_module_version": "1.2.0",
            "_view_name": "StyleView",
            "bar_color": null,
            "description_width": ""
          }
        },
        "bb6d10a3cce04ed887dc4620fdad125b": {
          "model_module": "@jupyter-widgets/base",
          "model_name": "LayoutModel",
          "model_module_version": "1.2.0",
          "state": {
            "_model_module": "@jupyter-widgets/base",
            "_model_module_version": "1.2.0",
            "_model_name": "LayoutModel",
            "_view_count": null,
            "_view_module": "@jupyter-widgets/base",
            "_view_module_version": "1.2.0",
            "_view_name": "LayoutView",
            "align_content": null,
            "align_items": null,
            "align_self": null,
            "border": null,
            "bottom": null,
            "display": null,
            "flex": null,
            "flex_flow": null,
            "grid_area": null,
            "grid_auto_columns": null,
            "grid_auto_flow": null,
            "grid_auto_rows": null,
            "grid_column": null,
            "grid_gap": null,
            "grid_row": null,
            "grid_template_areas": null,
            "grid_template_columns": null,
            "grid_template_rows": null,
            "height": null,
            "justify_content": null,
            "justify_items": null,
            "left": null,
            "margin": null,
            "max_height": null,
            "max_width": null,
            "min_height": null,
            "min_width": null,
            "object_fit": null,
            "object_position": null,
            "order": null,
            "overflow": null,
            "overflow_x": null,
            "overflow_y": null,
            "padding": null,
            "right": null,
            "top": null,
            "visibility": null,
            "width": null
          }
        },
        "653d658eb6224bf68b21ed1ec32f25ea": {
          "model_module": "@jupyter-widgets/controls",
          "model_name": "DescriptionStyleModel",
          "model_module_version": "1.5.0",
          "state": {
            "_model_module": "@jupyter-widgets/controls",
            "_model_module_version": "1.5.0",
            "_model_name": "DescriptionStyleModel",
            "_view_count": null,
            "_view_module": "@jupyter-widgets/base",
            "_view_module_version": "1.2.0",
            "_view_name": "StyleView",
            "description_width": ""
          }
        }
      }
    }
  },
  "cells": [
    {
      "cell_type": "code",
      "source": [
        "from google.colab import drive\n",
        "drive.mount('/content/drive')"
      ],
      "metadata": {
        "colab": {
          "base_uri": "https://localhost:8080/"
        },
        "id": "Rk3VoCs1d7Pm",
        "outputId": "e3637bde-9615-4ca7-f5b0-09ba0290ae4c"
      },
      "execution_count": 1,
      "outputs": [
        {
          "output_type": "stream",
          "name": "stdout",
          "text": [
            "Drive already mounted at /content/drive; to attempt to forcibly remount, call drive.mount(\"/content/drive\", force_remount=True).\n"
          ]
        }
      ]
    },
    {
      "cell_type": "code",
      "source": [
        "%cd \"/content/drive/MyDrive/data/3d data\""
      ],
      "metadata": {
        "id": "DSVW_OoZ5hpt",
        "colab": {
          "base_uri": "https://localhost:8080/"
        },
        "outputId": "7b8cfc28-4c40-4e38-e47f-bd51965afe1c"
      },
      "execution_count": 2,
      "outputs": [
        {
          "output_type": "stream",
          "name": "stdout",
          "text": [
            "/content/drive/MyDrive/data/3d data\n"
          ]
        }
      ]
    },
    {
      "cell_type": "code",
      "source": [
        "import h5py # .h5 파일을 읽기 위한 패키지\n",
        "import random\n",
        "import pandas as pd\n",
        "import numpy as np\n",
        "import os\n",
        "import glob\n",
        "\n",
        "import torch\n",
        "import torch.nn as nn\n",
        "import torch.optim as optim\n",
        "import torch.nn.functional as F\n",
        "from torch.utils.data import Dataset, DataLoader\n",
        "import copy\n",
        "\n",
        "from tqdm.auto import tqdm\n",
        "\n",
        "from sklearn.metrics import accuracy_score\n",
        "\n",
        "import warnings\n",
        "warnings.filterwarnings(action='ignore') "
      ],
      "metadata": {
        "id": "WseP8DjmrMG4"
      },
      "execution_count": 3,
      "outputs": []
    },
    {
      "cell_type": "code",
      "source": [
        "CFG = {\n",
        "    'EPOCHS':5,\n",
        "    'LEARNING_RATE':1e-3,\n",
        "    'BATCH_SIZE':16,\n",
        "    'SEED':41\n",
        "}"
      ],
      "metadata": {
        "id": "ewhzH5Rir_mL"
      },
      "execution_count": 4,
      "outputs": []
    },
    {
      "cell_type": "code",
      "source": [
        "class CustomDataset(Dataset):\n",
        "    def __init__(self, id_list, label_list, point_list):\n",
        "        self.id_list = id_list\n",
        "        self.label_list = label_list\n",
        "        self.point_list = point_list\n",
        "        \n",
        "    def __getitem__(self, index):\n",
        "        image_id = self.id_list[index]\n",
        "        \n",
        "        # h5파일을 바로 접근하여 사용하면 학습 속도가 병목 현상으로 많이 느릴 수 있습니다.\n",
        "        points = self.point_list[str(image_id)][:]\n",
        "        image = self.get_vector(points)\n",
        "        \n",
        "        if self.label_list is not None:\n",
        "            label = self.label_list[index]\n",
        "            return torch.Tensor(image).unsqueeze(0), label\n",
        "        else:\n",
        "            return torch.Tensor(image).unsqueeze(0)\n",
        "    \n",
        "    def get_vector(self, points, x_y_z=[16, 16, 16]):\n",
        "        # 3D Points -> [16,16,16]\n",
        "        xyzmin = np.min(points, axis=0) - 0.001\n",
        "        xyzmax = np.max(points, axis=0) + 0.001\n",
        "\n",
        "        diff = max(xyzmax-xyzmin) - (xyzmax-xyzmin)\n",
        "        xyzmin = xyzmin - diff / 2\n",
        "        xyzmax = xyzmax + diff / 2\n",
        "\n",
        "        segments = []\n",
        "        shape = []\n",
        "\n",
        "        for i in range(3):\n",
        "            # note the +1 in num \n",
        "            if type(x_y_z[i]) is not int:\n",
        "                raise TypeError(\"x_y_z[{}] must be int\".format(i))\n",
        "            s, step = np.linspace(xyzmin[i], xyzmax[i], num=(x_y_z[i] + 1), retstep=True)\n",
        "            segments.append(s)\n",
        "            shape.append(step)\n",
        "\n",
        "        n_voxels = x_y_z[0] * x_y_z[1] * x_y_z[2]\n",
        "        n_x = x_y_z[0]\n",
        "        n_y = x_y_z[1]\n",
        "        n_z = x_y_z[2]\n",
        "\n",
        "        structure = np.zeros((len(points), 4), dtype=int)\n",
        "        structure[:,0] = np.searchsorted(segments[0], points[:,0]) - 1\n",
        "        structure[:,1] = np.searchsorted(segments[1], points[:,1]) - 1\n",
        "        structure[:,2] = np.searchsorted(segments[2], points[:,2]) - 1\n",
        "\n",
        "        # i = ((y * n_x) + x) + (z * (n_x * n_y))\n",
        "        structure[:,3] = ((structure[:,1] * n_x) + structure[:,0]) + (structure[:,2] * (n_x * n_y)) \n",
        "\n",
        "        vector = np.zeros(n_voxels)\n",
        "        count = np.bincount(structure[:,3])\n",
        "        vector[:len(count)] = count\n",
        "\n",
        "        vector = vector.reshape(n_z, n_y, n_x)\n",
        "        return vector\n",
        "\n",
        "    def __len__(self):\n",
        "        return len(self.id_list)"
      ],
      "metadata": {
        "id": "_cQOde45rJ74"
      },
      "execution_count": 5,
      "outputs": []
    },
    {
      "cell_type": "code",
      "source": [
        "class BaseModel(nn.Module):\n",
        "    def __init__(self):\n",
        "        super(BaseModel,self).__init__()\n",
        "        self.feature_extract = nn.Sequential(\n",
        "            nn.Conv3d(1,8,3),\n",
        "            nn.ReLU(),\n",
        "            nn.BatchNorm3d(8),\n",
        "            nn.Conv3d(8,32,3),\n",
        "            nn.ReLU(),\n",
        "            nn.BatchNorm3d(32),\n",
        "            nn.MaxPool3d(4),\n",
        "            nn.Conv3d(32,32,3),\n",
        "            nn.ReLU(),\n",
        "        )\n",
        "        self.classifier = nn.Linear(32,10)\n",
        "\n",
        "    def forward(self,x):\n",
        "        x = self.feature_extract(x)\n",
        "        x = x.view(x.size()[0],-1)\n",
        "        x = self.classifier(x)\n",
        "        return x"
      ],
      "metadata": {
        "id": "q7GKAXsgq_1B"
      },
      "execution_count": 6,
      "outputs": []
    },
    {
      "cell_type": "code",
      "execution_count": 7,
      "metadata": {
        "id": "5spk3NINqxbU"
      },
      "outputs": [],
      "source": [
        "test_df = pd.read_csv('./sample_submission.csv')\n",
        "test_points = h5py.File('./test.h5', 'r')"
      ]
    },
    {
      "cell_type": "code",
      "source": [
        "test_dataset = CustomDataset(test_df['ID'].values, None, test_points)\n",
        "test_loader = DataLoader(test_dataset, batch_size=CFG['BATCH_SIZE'], shuffle=False, num_workers=0)"
      ],
      "metadata": {
        "id": "J2hr5-Axq6dv"
      },
      "execution_count": 8,
      "outputs": []
    },
    {
      "cell_type": "code",
      "source": [
        "model =BaseModel()\n",
        "device = torch.device('cuda')\n",
        "model = model.to(device)"
      ],
      "metadata": {
        "id": "MgIBYar2dXuB"
      },
      "execution_count": 9,
      "outputs": []
    },
    {
      "cell_type": "code",
      "source": [
        "best_models = []\n",
        "model.load_state_dict(torch.load('/content/drive/MyDrive/data/3d data/models/basemodel scheduler.pt', map_location=device), strict=False) #56\n",
        "best_models.append(copy.deepcopy(model)) "
      ],
      "metadata": {
        "id": "yHIBkUuCrgjc"
      },
      "execution_count": 11,
      "outputs": []
    },
    {
      "cell_type": "code",
      "source": [
        "def predict(model, test_loader, device):\n",
        "    model.to(device)\n",
        "    model.eval()\n",
        "    model_preds = []\n",
        "    with torch.no_grad():\n",
        "        for data in tqdm(iter(test_loader)):\n",
        "          batch_pred=0\n",
        "          data = data.float().to(device)\n",
        "          with torch.cuda.amp.autocast():\n",
        "            for model in best_models:\n",
        "              batch_pred += model(data)\n",
        "              model_preds += batch_pred.argmax(1).detach().cpu().numpy().tolist()\n",
        "    \n",
        "    return model_preds"
      ],
      "metadata": {
        "id": "EsnK6vGvq8J_"
      },
      "execution_count": 12,
      "outputs": []
    },
    {
      "cell_type": "code",
      "source": [
        "preds = predict(model, test_loader, device)"
      ],
      "metadata": {
        "id": "fj4sHDfRq86f",
        "colab": {
          "base_uri": "https://localhost:8080/",
          "height": 49,
          "referenced_widgets": [
            "aa942dcf38554b028da3d2d0857a6855",
            "c8af0139c9cc4bfe80b32af501d716c8",
            "a303db8c945441de9e7f656ebdd319ce",
            "c3e7c6efe0c948c4bfd4c06ab75e1cd9",
            "c794a509f82840b3a3635104523738e0",
            "9b229cadac4e454fa44a32183271eda8",
            "e2004a6a3f8d4d5cbca7189d9f82f57d",
            "1dafe84c995c4d8e9014cfa15be2a0fd",
            "b8bb284c16d14760845348a5a6e07c32",
            "bb6d10a3cce04ed887dc4620fdad125b",
            "653d658eb6224bf68b21ed1ec32f25ea"
          ]
        },
        "outputId": "582c4a7e-55b1-4373-f806-1c803ab90452"
      },
      "execution_count": null,
      "outputs": [
        {
          "output_type": "display_data",
          "data": {
            "text/plain": [
              "  0%|          | 0/2500 [00:00<?, ?it/s]"
            ],
            "application/vnd.jupyter.widget-view+json": {
              "version_major": 2,
              "version_minor": 0,
              "model_id": "aa942dcf38554b028da3d2d0857a6855"
            }
          },
          "metadata": {}
        }
      ]
    },
    {
      "cell_type": "code",
      "source": [
        "test_df['label'] = preds\n",
        "test_df.to_csv('./submit.csv', index=False)"
      ],
      "metadata": {
        "id": "CvgeVXMfq9ww"
      },
      "execution_count": null,
      "outputs": []
    },
    {
      "cell_type": "code",
      "source": [
        ""
      ],
      "metadata": {
        "id": "TVvOjRBwia6z"
      },
      "execution_count": null,
      "outputs": []
    }
  ]
}