{
  "cells": [
    {
      "cell_type": "markdown",
      "metadata": {
        "id": "a2bcba5f-002e-4f49-9622-ada6117faf0a"
      },
      "source": [
        "## Import"
      ],
      "id": "a2bcba5f-002e-4f49-9622-ada6117faf0a"
    },
    {
      "cell_type": "code",
      "execution_count": 1,
      "metadata": {
        "id": "SPKutxbAqrg1",
        "colab": {
          "base_uri": "https://localhost:8080/"
        },
        "outputId": "fbb21ae4-0497-4f1e-9b54-d03c8d7d1f07"
      },
      "outputs": [
        {
          "output_type": "stream",
          "name": "stdout",
          "text": [
            "Drive already mounted at /content/drive; to attempt to forcibly remount, call drive.mount(\"/content/drive\", force_remount=True).\n"
          ]
        }
      ],
      "source": [
        "from google.colab import drive\n",
        "drive.mount('/content/drive')"
      ],
      "id": "SPKutxbAqrg1"
    },
    {
      "cell_type": "code",
      "execution_count": 2,
      "metadata": {
        "id": "XGSX4XJS_pRd",
        "colab": {
          "base_uri": "https://localhost:8080/"
        },
        "outputId": "acbd6f64-e81d-4c53-a222-19d3bc6cb5aa"
      },
      "outputs": [
        {
          "output_type": "stream",
          "name": "stdout",
          "text": [
            "Looking in indexes: https://pypi.org/simple, https://us-python.pkg.dev/colab-wheels/public/simple/\n",
            "Collecting git+https://github.com/shijianjian/EfficientNet-PyTorch-3D\n",
            "  Cloning https://github.com/shijianjian/EfficientNet-PyTorch-3D to /tmp/pip-req-build-r8tvja63\n",
            "  Running command git clone -q https://github.com/shijianjian/EfficientNet-PyTorch-3D /tmp/pip-req-build-r8tvja63\n",
            "Requirement already satisfied: torch in /usr/local/lib/python3.7/dist-packages (from efficientnet-pytorch-3d==0.6.3) (1.12.0+cu113)\n",
            "Requirement already satisfied: typing-extensions in /usr/local/lib/python3.7/dist-packages (from torch->efficientnet-pytorch-3d==0.6.3) (4.1.1)\n"
          ]
        }
      ],
      "source": [
        "!pip install git+https://github.com/shijianjian/EfficientNet-PyTorch-3D"
      ],
      "id": "XGSX4XJS_pRd"
    },
    {
      "cell_type": "code",
      "execution_count": 3,
      "metadata": {
        "id": "hgOkVcfVMqk4",
        "colab": {
          "base_uri": "https://localhost:8080/"
        },
        "outputId": "681c3e2c-67a9-4e75-a4a0-8d3f897e8897"
      },
      "outputs": [
        {
          "output_type": "stream",
          "name": "stdout",
          "text": [
            "Looking in indexes: https://pypi.org/simple, https://us-python.pkg.dev/colab-wheels/public/simple/\n",
            "Requirement already satisfied: torchio in /usr/local/lib/python3.7/dist-packages (0.18.84)\n",
            "Requirement already satisfied: click in /usr/local/lib/python3.7/dist-packages (from torchio) (7.1.2)\n",
            "Requirement already satisfied: nibabel in /usr/local/lib/python3.7/dist-packages (from torchio) (3.0.2)\n",
            "Requirement already satisfied: numpy>=1.15 in /usr/local/lib/python3.7/dist-packages (from torchio) (1.21.6)\n",
            "Requirement already satisfied: tqdm in /usr/local/lib/python3.7/dist-packages (from torchio) (4.64.0)\n",
            "Requirement already satisfied: scipy in /usr/local/lib/python3.7/dist-packages (from torchio) (1.7.3)\n",
            "Requirement already satisfied: torch>=1.1 in /usr/local/lib/python3.7/dist-packages (from torchio) (1.12.0+cu113)\n",
            "Requirement already satisfied: SimpleITK!=2.0.*,!=2.1.1.1 in /usr/local/lib/python3.7/dist-packages (from torchio) (2.1.1.2)\n",
            "Requirement already satisfied: humanize in /usr/local/lib/python3.7/dist-packages (from torchio) (0.5.1)\n",
            "Requirement already satisfied: Deprecated in /usr/local/lib/python3.7/dist-packages (from torchio) (1.2.13)\n",
            "Requirement already satisfied: typing-extensions in /usr/local/lib/python3.7/dist-packages (from torch>=1.1->torchio) (4.1.1)\n",
            "Requirement already satisfied: wrapt<2,>=1.10 in /usr/local/lib/python3.7/dist-packages (from Deprecated->torchio) (1.14.1)\n"
          ]
        }
      ],
      "source": [
        "!pip install torchio"
      ],
      "id": "hgOkVcfVMqk4"
    },
    {
      "cell_type": "code",
      "execution_count": 4,
      "metadata": {
        "id": "YgJWaQQKqsH-",
        "colab": {
          "base_uri": "https://localhost:8080/"
        },
        "outputId": "6fc90f04-3e1f-41d4-95a7-776e7ab58c75"
      },
      "outputs": [
        {
          "output_type": "stream",
          "name": "stdout",
          "text": [
            "/content/drive/MyDrive/data/3d data\n"
          ]
        }
      ],
      "source": [
        "%cd \"/content/drive/MyDrive/data/3d data\"\n",
        "#!unzip -q \"/content/drive/MyDrive/data/3d data/open.zip\""
      ],
      "id": "YgJWaQQKqsH-"
    },
    {
      "cell_type": "code",
      "execution_count": 5,
      "metadata": {
        "id": "2b0d9b68-7102-4eca-9543-3b9b8acafc6e"
      },
      "outputs": [],
      "source": [
        "import h5py # .h5 파일을 읽기 위한 패키지\n",
        "import random\n",
        "import pandas as pd\n",
        "import numpy as np\n",
        "import os\n",
        "import glob\n",
        "import torch\n",
        "import torch.nn as nn\n",
        "import torch.optim as optim\n",
        "import torch.nn.functional as F\n",
        "from torch.utils.data import Dataset, DataLoader\n",
        "from plotly.offline import iplot\n",
        "from utils import EarlyStopping, SAM\n",
        "from tqdm.auto import tqdm\n",
        "import torchio as tio\n",
        "from torchio.transforms import (\n",
        "    RandomFlip,\n",
        "    RandomAffine,\n",
        "    RandomElasticDeformation, \n",
        "    RandomNoise,\n",
        "    RandomMotion,\n",
        "    RandomBiasField,\n",
        "    RescaleIntensity,\n",
        "    Resample,\n",
        "    RandomSwap,\n",
        "    RandomGhosting,\n",
        "    ToCanonical,\n",
        "    ZNormalization,\n",
        "    CropOrPad,\n",
        "    HistogramStandardization,\n",
        "    OneOf,\n",
        "    Compose,\n",
        ")\n",
        "from typing import Sequence, Callable\n",
        "from efficientnet_pytorch_3d import EfficientNet3D\n",
        "\n",
        "from sklearn.metrics import accuracy_score\n",
        "\n",
        "import warnings\n",
        "warnings.filterwarnings(action='ignore') "
      ],
      "id": "2b0d9b68-7102-4eca-9543-3b9b8acafc6e"
    },
    {
      "cell_type": "code",
      "execution_count": 6,
      "metadata": {
        "id": "d13862e3-bb27-47af-9b58-a9fbf804df71"
      },
      "outputs": [],
      "source": [
        "device = torch.device('cuda') if torch.cuda.is_available() else torch.device('cpu')"
      ],
      "id": "d13862e3-bb27-47af-9b58-a9fbf804df71"
    },
    {
      "cell_type": "markdown",
      "metadata": {
        "id": "fc7df3f2-62d0-4499-a46e-47d01699def0"
      },
      "source": [
        "## Hyperparameter Setting"
      ],
      "id": "fc7df3f2-62d0-4499-a46e-47d01699def0"
    },
    {
      "cell_type": "code",
      "execution_count": 7,
      "metadata": {
        "id": "c3367399-9798-4e38-967b-fd2320b9a2b2"
      },
      "outputs": [],
      "source": [
        "CFG = {\n",
        "    'EPOCHS':50,\n",
        "    'LEARNING_RATE':1e-4,\n",
        "    'BATCH_SIZE':128,\n",
        "    'SEED':41,\n",
        "    'PATIENCE':10,\n",
        "}"
      ],
      "id": "c3367399-9798-4e38-967b-fd2320b9a2b2"
    },
    {
      "cell_type": "markdown",
      "metadata": {
        "id": "4254e860-ff82-43ba-bfa3-fcee4eb3ddbd"
      },
      "source": [
        "## Fixed RandomSeed"
      ],
      "id": "4254e860-ff82-43ba-bfa3-fcee4eb3ddbd"
    },
    {
      "cell_type": "code",
      "execution_count": 8,
      "metadata": {
        "id": "101a714b-71b6-4475-a4ce-fa5f98bc2731"
      },
      "outputs": [],
      "source": [
        "def seed_everything(seed):\n",
        "    random.seed(seed)\n",
        "    os.environ['PYTHONHASHSEED'] = str(seed)\n",
        "    np.random.seed(seed)\n",
        "    torch.manual_seed(seed)\n",
        "    torch.cuda.manual_seed(seed)\n",
        "    torch.backends.cudnn.deterministic = True\n",
        "    torch.backends.cudnn.benchmark = True\n",
        "\n",
        "seed_everything(CFG['SEED']) # Seed 고정"
      ],
      "id": "101a714b-71b6-4475-a4ce-fa5f98bc2731"
    },
    {
      "cell_type": "markdown",
      "metadata": {
        "id": "05a4172e-5791-446f-9616-35c09d8bf25a"
      },
      "source": [
        "## Data Pre-processing"
      ],
      "id": "05a4172e-5791-446f-9616-35c09d8bf25a"
    },
    {
      "cell_type": "code",
      "execution_count": 9,
      "metadata": {
        "id": "bb174705-e5df-442d-b82a-cb17a4e831e6"
      },
      "outputs": [],
      "source": [
        "all_df = pd.read_csv('./train.csv')\n",
        "all_points = h5py.File('./train.h5', 'r')"
      ],
      "id": "bb174705-e5df-442d-b82a-cb17a4e831e6"
    },
    {
      "cell_type": "code",
      "execution_count": 10,
      "metadata": {
        "id": "89082ab7-7784-4e91-ad9c-6b9d2174ab91"
      },
      "outputs": [],
      "source": [
        "train_df = all_df.iloc[:int(len(all_df)*0.8)]\n",
        "val_df = all_df.iloc[int(len(all_df)*0.8):]"
      ],
      "id": "89082ab7-7784-4e91-ad9c-6b9d2174ab91"
    },
    {
      "cell_type": "code",
      "execution_count": 11,
      "metadata": {
        "id": "16fd60a5-24e2-4539-bfd0-1c374a641699"
      },
      "outputs": [],
      "source": [
        "class CustomDataset(Dataset):\n",
        "    def __init__(self, id_list, label_list, point_list, transforms= Sequence[Callable]):\n",
        "        self.id_list = id_list\n",
        "        self.label_list = label_list\n",
        "        self.point_list = point_list\n",
        "        self.transforms = transforms\n",
        "    def __getitem__(self, index):\n",
        "        image_id = self.id_list[index]\n",
        "        \n",
        "        # h5파일을 바로 접근하여 사용하면 학습 속도가 병목 현상으로 많이 느릴 수 있습니다.\n",
        "        points = self.point_list[str(image_id)][:]\n",
        "        image = self.get_vector(points)\n",
        "\n",
        "        if self.label_list is not None:\n",
        "            label = self.label_list[index]\n",
        "            image=torch.Tensor(image).unsqueeze(0)\n",
        "            if self.transforms is not None:\n",
        "              image = self.transforms(image)\n",
        "            return image, label\n",
        "        else:\n",
        "            image=torch.Tensor(image).unsqueeze(0)\n",
        "            if self.transforms is not None:\n",
        "              image = self.transforms(image)\n",
        "            return image\n",
        "    \n",
        "    def get_vector(self, points, x_y_z=[16, 16, 16]):\n",
        "        # 3D Points -> [16,16,16]\n",
        "        xyzmin = np.min(points, axis=0) - 0.001\n",
        "        xyzmax = np.max(points, axis=0) + 0.001\n",
        "\n",
        "        diff = max(xyzmax-xyzmin) - (xyzmax-xyzmin)\n",
        "        xyzmin = xyzmin - diff / 2\n",
        "        xyzmax = xyzmax + diff / 2\n",
        "\n",
        "        segments = []\n",
        "        shape = []\n",
        "\n",
        "        for i in range(3):\n",
        "            # note the +1 in num \n",
        "            if type(x_y_z[i]) is not int:\n",
        "                raise TypeError(\"x_y_z[{}] must be int\".format(i))\n",
        "            s, step = np.linspace(xyzmin[i], xyzmax[i], num=(x_y_z[i] + 1), retstep=True)\n",
        "            segments.append(s)\n",
        "            shape.append(step)\n",
        "\n",
        "        n_voxels = x_y_z[0] * x_y_z[1] * x_y_z[2]\n",
        "        n_x = x_y_z[0]\n",
        "        n_y = x_y_z[1]\n",
        "        n_z = x_y_z[2]\n",
        "\n",
        "        structure = np.zeros((len(points), 4), dtype=int)\n",
        "        structure[:,0] = np.searchsorted(segments[0], points[:,0]) - 1\n",
        "        structure[:,1] = np.searchsorted(segments[1], points[:,1]) - 1\n",
        "        structure[:,2] = np.searchsorted(segments[2], points[:,2]) - 1\n",
        "\n",
        "        # i = ((y * n_x) + x) + (z * (n_x * n_y))\n",
        "        structure[:,3] = ((structure[:,1] * n_x) + structure[:,0]) + (structure[:,2] * (n_x * n_y)) \n",
        "\n",
        "        vector = np.zeros(n_voxels)\n",
        "        count = np.bincount(structure[:,3])\n",
        "        vector[:len(count)] = count\n",
        "\n",
        "        vector = vector.reshape(n_z, n_y, n_x)\n",
        "\n",
        "        return vector\n",
        "\n",
        "    def __len__(self):\n",
        "        return len(self.id_list)"
      ],
      "id": "16fd60a5-24e2-4539-bfd0-1c374a641699"
    },
    {
      "cell_type": "code",
      "execution_count": 12,
      "metadata": {
        "id": "r0g5nTwVIPsj",
        "colab": {
          "base_uri": "https://localhost:8080/",
          "height": 90
        },
        "outputId": "00304dee-96ba-4f8c-de68-d2431e773ed9"
      },
      "outputs": [
        {
          "output_type": "execute_result",
          "data": {
            "text/plain": [
              "'\\n   tio.ToCanonical(),\\n   tio.RandomMotion(p=0.2),\\n   tio.RandomBiasField(p=0.3),\\n   tio.RandomNoise(p=0.5),\\n   tio.Resize((64,64,64)),\\n   tio.RandomAffine(degrees=45),\\n   ZNormalization(),\\n       tio.CropOrPad((64,64,48)),\\n   tio.RandomGhosting(),\\n   tio.RandomSwap(),\\n '"
            ],
            "application/vnd.google.colaboratory.intrinsic+json": {
              "type": "string"
            }
          },
          "metadata": {},
          "execution_count": 12
        }
      ],
      "source": [
        " '''\n",
        "    tio.ToCanonical(),\n",
        "    tio.RandomMotion(p=0.2),\n",
        "    tio.RandomBiasField(p=0.3),\n",
        "    tio.RandomNoise(p=0.5),\n",
        "    tio.Resize((64,64,64)),\n",
        "    tio.RandomAffine(degrees=45),\n",
        "    ZNormalization(),\n",
        "        tio.CropOrPad((64,64,48)),\n",
        "    tio.RandomGhosting(),\n",
        "    tio.RandomSwap(),\n",
        "  '''"
      ],
      "id": "r0g5nTwVIPsj"
    },
    {
      "cell_type": "code",
      "execution_count": 13,
      "metadata": {
        "id": "_mp25Wa3mhz1"
      },
      "outputs": [],
      "source": [
        "training_transform = tio.Compose([\n",
        "    tio.ToCanonical(),\n",
        "    tio.RandomMotion(p=0.2),\n",
        "    tio.RandomFlip(axes=('LR',)),\n",
        "    tio.RandomBiasField(p=0.3),\n",
        "    tio.RandomNoise(p=0.5),\n",
        "    tio.Resize((64,64,64)),\n",
        "    tio.RandomAffine(degrees=60),\n",
        "    ZNormalization(),\n",
        "\n",
        "])\n",
        "validation_transform = tio.Compose([\n",
        "    tio.ToCanonical(),\n",
        "    tio.RandomMotion(p=0.2),\n",
        "    tio.RandomFlip(axes=('LR',)),\n",
        "    tio.RandomBiasField(p=0.3),\n",
        "    tio.RandomNoise(p=0.5),\n",
        "    tio.Resize((64,64,64)),\n",
        "    tio.RandomAffine(degrees=60),\n",
        "    ZNormalization(),\n",
        "])"
      ],
      "id": "_mp25Wa3mhz1"
    },
    {
      "cell_type": "code",
      "execution_count": 14,
      "metadata": {
        "id": "9d880481-1965-499d-9caa-fdfa8526f789"
      },
      "outputs": [],
      "source": [
        "train_dataset = CustomDataset(train_df['ID'].values,\n",
        "                              train_df['label'].values,\n",
        "                              all_points,\n",
        "                              transforms=training_transform)\n",
        "\n",
        "train_loader = DataLoader(train_dataset, \n",
        "                          batch_size = CFG['BATCH_SIZE'], \n",
        "                          shuffle=True,\n",
        "                          pin_memory=True,    \n",
        "                          num_workers=4)\n",
        "\n",
        "val_dataset = CustomDataset(val_df['ID'].values, \n",
        "                            val_df['label'].values,\n",
        "                            all_points,\n",
        "                            transforms=validation_transform)\n",
        "\n",
        "val_loader = DataLoader(val_dataset,\n",
        "                        batch_size=CFG['BATCH_SIZE'],\n",
        "                        pin_memory=True,    \n",
        "                        shuffle=False,\n",
        "                        num_workers=4)"
      ],
      "id": "9d880481-1965-499d-9caa-fdfa8526f789"
    },
    {
      "cell_type": "markdown",
      "metadata": {
        "id": "39962463-032f-490a-a76d-c03991795f38"
      },
      "source": [
        "## Model Define"
      ],
      "id": "39962463-032f-490a-a76d-c03991795f38"
    },
    {
      "cell_type": "code",
      "execution_count": 15,
      "metadata": {
        "id": "Ym4Xttv3Ii8P"
      },
      "outputs": [],
      "source": [
        "\n",
        "class BaseModel(nn.Module):\n",
        "    def __init__(self):\n",
        "        super(BaseModel,self).__init__()\n",
        "        self.model = EfficientNet3D.from_name(\"efficientnet-b3\", override_params={'num_classes': 10}, in_channels=1)\n",
        "        #\n",
        "\n",
        "\n",
        "    def forward(self,x):\n",
        "\n",
        "        x = self.model(x)\n",
        "        nn.init.xavier_normal_(x)\n",
        "#        x = self.classifier(x)\n",
        "        return x"
      ],
      "id": "Ym4Xttv3Ii8P"
    },
    {
      "cell_type": "markdown",
      "metadata": {
        "id": "122af0aa-a1fd-4595-9488-35761e3cb596"
      },
      "source": [
        "## Train"
      ],
      "id": "122af0aa-a1fd-4595-9488-35761e3cb596"
    },
    {
      "cell_type": "code",
      "execution_count": 16,
      "metadata": {
        "id": "prHvBvlDsPmV"
      },
      "outputs": [],
      "source": [
        "\n",
        "use_amp = True\n",
        "save_path='best_model.pt'\n",
        "scaler = torch.cuda.amp.GradScaler(enabled=use_amp)\n",
        "early_stopping = EarlyStopping(patience = CFG['PATIENCE'], verbose = True, path =save_path )"
      ],
      "id": "prHvBvlDsPmV"
    },
    {
      "cell_type": "code",
      "execution_count": 17,
      "metadata": {
        "id": "a17df6b3-16c9-44dd-b0fd-ffb501fee749"
      },
      "outputs": [],
      "source": [
        "def train(model, optimizer, train_loader, val_loader, scheduler, device):\n",
        "    model.to(device)\n",
        "    criterion = nn.CrossEntropyLoss().to(device)\n",
        "    best_score = 0\n",
        "    for epoch in range(1, CFG['EPOCHS']+1):\n",
        "        model.train()\n",
        "        train_loss = []\n",
        "        for data, label in tqdm(iter(train_loader)):\n",
        "            data, label = data.float().to(device), label.long().to(device)\n",
        "            optimizer.zero_grad()\n",
        "            \n",
        "            output = model(data)\n",
        "            loss = criterion(output, label)\n",
        "            \n",
        "            loss.backward()\n",
        "            optimizer.first_step(zero_grad=True)\n",
        "            criterion(model(data), label).backward()\n",
        "            optimizer.second_step(zero_grad=True)\n",
        "\n",
        "            #optimizer.step()           \n",
        "            #scaler.scale(loss).backward()\n",
        "            #scaler.step(optimizer)\n",
        "            #scaler.update()\n",
        "                       \n",
        "            train_loss.append(loss.item())\n",
        "        \n",
        "        if scheduler is not None:\n",
        "            scheduler.step()\n",
        "            \n",
        "        val_loss, val_acc = validation(model, criterion, val_loader, device)\n",
        "        print(f'Epoch : [{epoch}] Train Loss : [{np.mean(train_loss)}] Val Loss : [{val_loss}] Val ACC : [{val_acc}]')\n",
        "        early_stopping(-val_acc, model)\n",
        "        if early_stopping.early_stop:\n",
        "          print(\"Early stopping\")\n",
        "          break\n"
      ],
      "id": "a17df6b3-16c9-44dd-b0fd-ffb501fee749"
    },
    {
      "cell_type": "code",
      "execution_count": 18,
      "metadata": {
        "id": "079a36b3-fdc4-478d-ade4-47188329ebcf"
      },
      "outputs": [],
      "source": [
        "\n",
        "def validation(model, criterion, val_loader, device):\n",
        "    model.eval()\n",
        "    true_labels = []\n",
        "    model_preds = []\n",
        "    val_loss = []\n",
        "    with torch.no_grad():\n",
        "        for data, label in tqdm(iter(val_loader)):\n",
        "            data, label = data.float().to(device), label.long().to(device)\n",
        "            \n",
        "            model_pred = model(data)\n",
        "            loss = criterion(model_pred, label)\n",
        "            \n",
        "            val_loss.append(loss.item())\n",
        "            \n",
        "            model_preds += model_pred.argmax(1).detach().cpu().numpy().tolist()\n",
        "            true_labels += label.detach().cpu().numpy().tolist()\n",
        "    \n",
        "    return np.mean(val_loss), accuracy_score(true_labels, model_preds)"
      ],
      "id": "079a36b3-fdc4-478d-ade4-47188329ebcf"
    },
    {
      "cell_type": "markdown",
      "metadata": {
        "id": "51da39f9-904f-4abd-a7d2-cdf29c4a6c24"
      },
      "source": [
        "## Train\n",
        "\n"
      ],
      "id": "51da39f9-904f-4abd-a7d2-cdf29c4a6c24"
    },
    {
      "cell_type": "code",
      "execution_count": null,
      "metadata": {
        "id": "86142d9a-68b7-4d04-8423-49d28025411d",
        "colab": {
          "base_uri": "https://localhost:8080/",
          "height": 49,
          "referenced_widgets": [
            "00abc12c01af42aa9963eb598bc72979",
            "fb61b827b5b64bc28b54cdbd1c6a910a",
            "c3f9a35134ce4a99a35d42f9a49be660",
            "b1ef1606b99844f088b4e6ec9be52c33",
            "f2a3d62b1a9d4fdb92ced9076ea7a28e",
            "814ab6b8ae3a4c129f60ce3031dbf9b5",
            "701a1a67991c418fb7b71dbbd90907fa",
            "c03fb21e01754ee889b89e42c2516ac1",
            "41a8709e1e8f445788ca54a4e371db46",
            "5c38a711932f4d279c5736b400867b61",
            "14cd4f024eb04f6192bb2ba859dbd302"
          ]
        },
        "outputId": "b4289e3b-b503-4fc9-e549-4c0a82ea3c1a"
      },
      "outputs": [
        {
          "output_type": "display_data",
          "data": {
            "text/plain": [
              "  0%|          | 0/313 [00:00<?, ?it/s]"
            ],
            "application/vnd.jupyter.widget-view+json": {
              "version_major": 2,
              "version_minor": 0,
              "model_id": "00abc12c01af42aa9963eb598bc72979"
            }
          },
          "metadata": {}
        }
      ],
      "source": [
        "model = BaseModel()\n",
        "model.eval()\n",
        "#optimizer = torch.optim.AdamW(params = model.parameters(), lr = CFG[\"LEARNING_RATE\"])\n",
        "base_optimizer = torch.optim.SGD  \n",
        "optimizer = SAM(model.parameters(), base_optimizer, lr=0.001, momentum=0.9)\n",
        "\n",
        "scheduler = torch.optim.lr_scheduler.CosineAnnealingWarmRestarts(optimizer, T_0=10, T_mult=1, eta_min=0.001, last_epoch=-1)\n",
        "\n",
        "train(model, optimizer, train_loader, val_loader, scheduler, device)"
      ],
      "id": "86142d9a-68b7-4d04-8423-49d28025411d"
    },
    {
      "cell_type": "code",
      "source": [
        ""
      ],
      "metadata": {
        "id": "nKsa_SZyr172"
      },
      "id": "nKsa_SZyr172",
      "execution_count": null,
      "outputs": []
    }
  ],
  "metadata": {
    "colab": {
      "collapsed_sections": [],
      "machine_shape": "hm",
      "name": "3D Train.ipynb의 사본",
      "provenance": []
    },
    "gpuClass": "standard",
    "kernelspec": {
      "display_name": "Python 3 (ipykernel)",
      "language": "python",
      "name": "python3"
    },
    "language_info": {
      "codemirror_mode": {
        "name": "ipython",
        "version": 3
      },
      "file_extension": ".py",
      "mimetype": "text/x-python",
      "name": "python",
      "nbconvert_exporter": "python",
      "pygments_lexer": "ipython3",
      "version": "3.8.3"
    },
    "widgets": {
      "application/vnd.jupyter.widget-state+json": {
        "00abc12c01af42aa9963eb598bc72979": {
          "model_module": "@jupyter-widgets/controls",
          "model_name": "HBoxModel",
          "model_module_version": "1.5.0",
          "state": {
            "_dom_classes": [],
            "_model_module": "@jupyter-widgets/controls",
            "_model_module_version": "1.5.0",
            "_model_name": "HBoxModel",
            "_view_count": null,
            "_view_module": "@jupyter-widgets/controls",
            "_view_module_version": "1.5.0",
            "_view_name": "HBoxView",
            "box_style": "",
            "children": [
              "IPY_MODEL_fb61b827b5b64bc28b54cdbd1c6a910a",
              "IPY_MODEL_c3f9a35134ce4a99a35d42f9a49be660",
              "IPY_MODEL_b1ef1606b99844f088b4e6ec9be52c33"
            ],
            "layout": "IPY_MODEL_f2a3d62b1a9d4fdb92ced9076ea7a28e"
          }
        },
        "fb61b827b5b64bc28b54cdbd1c6a910a": {
          "model_module": "@jupyter-widgets/controls",
          "model_name": "HTMLModel",
          "model_module_version": "1.5.0",
          "state": {
            "_dom_classes": [],
            "_model_module": "@jupyter-widgets/controls",
            "_model_module_version": "1.5.0",
            "_model_name": "HTMLModel",
            "_view_count": null,
            "_view_module": "@jupyter-widgets/controls",
            "_view_module_version": "1.5.0",
            "_view_name": "HTMLView",
            "description": "",
            "description_tooltip": null,
            "layout": "IPY_MODEL_814ab6b8ae3a4c129f60ce3031dbf9b5",
            "placeholder": "​",
            "style": "IPY_MODEL_701a1a67991c418fb7b71dbbd90907fa",
            "value": "  0%"
          }
        },
        "c3f9a35134ce4a99a35d42f9a49be660": {
          "model_module": "@jupyter-widgets/controls",
          "model_name": "FloatProgressModel",
          "model_module_version": "1.5.0",
          "state": {
            "_dom_classes": [],
            "_model_module": "@jupyter-widgets/controls",
            "_model_module_version": "1.5.0",
            "_model_name": "FloatProgressModel",
            "_view_count": null,
            "_view_module": "@jupyter-widgets/controls",
            "_view_module_version": "1.5.0",
            "_view_name": "ProgressView",
            "bar_style": "",
            "description": "",
            "description_tooltip": null,
            "layout": "IPY_MODEL_c03fb21e01754ee889b89e42c2516ac1",
            "max": 313,
            "min": 0,
            "orientation": "horizontal",
            "style": "IPY_MODEL_41a8709e1e8f445788ca54a4e371db46",
            "value": 0
          }
        },
        "b1ef1606b99844f088b4e6ec9be52c33": {
          "model_module": "@jupyter-widgets/controls",
          "model_name": "HTMLModel",
          "model_module_version": "1.5.0",
          "state": {
            "_dom_classes": [],
            "_model_module": "@jupyter-widgets/controls",
            "_model_module_version": "1.5.0",
            "_model_name": "HTMLModel",
            "_view_count": null,
            "_view_module": "@jupyter-widgets/controls",
            "_view_module_version": "1.5.0",
            "_view_name": "HTMLView",
            "description": "",
            "description_tooltip": null,
            "layout": "IPY_MODEL_5c38a711932f4d279c5736b400867b61",
            "placeholder": "​",
            "style": "IPY_MODEL_14cd4f024eb04f6192bb2ba859dbd302",
            "value": " 0/313 [00:00&lt;?, ?it/s]"
          }
        },
        "f2a3d62b1a9d4fdb92ced9076ea7a28e": {
          "model_module": "@jupyter-widgets/base",
          "model_name": "LayoutModel",
          "model_module_version": "1.2.0",
          "state": {
            "_model_module": "@jupyter-widgets/base",
            "_model_module_version": "1.2.0",
            "_model_name": "LayoutModel",
            "_view_count": null,
            "_view_module": "@jupyter-widgets/base",
            "_view_module_version": "1.2.0",
            "_view_name": "LayoutView",
            "align_content": null,
            "align_items": null,
            "align_self": null,
            "border": null,
            "bottom": null,
            "display": null,
            "flex": null,
            "flex_flow": null,
            "grid_area": null,
            "grid_auto_columns": null,
            "grid_auto_flow": null,
            "grid_auto_rows": null,
            "grid_column": null,
            "grid_gap": null,
            "grid_row": null,
            "grid_template_areas": null,
            "grid_template_columns": null,
            "grid_template_rows": null,
            "height": null,
            "justify_content": null,
            "justify_items": null,
            "left": null,
            "margin": null,
            "max_height": null,
            "max_width": null,
            "min_height": null,
            "min_width": null,
            "object_fit": null,
            "object_position": null,
            "order": null,
            "overflow": null,
            "overflow_x": null,
            "overflow_y": null,
            "padding": null,
            "right": null,
            "top": null,
            "visibility": null,
            "width": null
          }
        },
        "814ab6b8ae3a4c129f60ce3031dbf9b5": {
          "model_module": "@jupyter-widgets/base",
          "model_name": "LayoutModel",
          "model_module_version": "1.2.0",
          "state": {
            "_model_module": "@jupyter-widgets/base",
            "_model_module_version": "1.2.0",
            "_model_name": "LayoutModel",
            "_view_count": null,
            "_view_module": "@jupyter-widgets/base",
            "_view_module_version": "1.2.0",
            "_view_name": "LayoutView",
            "align_content": null,
            "align_items": null,
            "align_self": null,
            "border": null,
            "bottom": null,
            "display": null,
            "flex": null,
            "flex_flow": null,
            "grid_area": null,
            "grid_auto_columns": null,
            "grid_auto_flow": null,
            "grid_auto_rows": null,
            "grid_column": null,
            "grid_gap": null,
            "grid_row": null,
            "grid_template_areas": null,
            "grid_template_columns": null,
            "grid_template_rows": null,
            "height": null,
            "justify_content": null,
            "justify_items": null,
            "left": null,
            "margin": null,
            "max_height": null,
            "max_width": null,
            "min_height": null,
            "min_width": null,
            "object_fit": null,
            "object_position": null,
            "order": null,
            "overflow": null,
            "overflow_x": null,
            "overflow_y": null,
            "padding": null,
            "right": null,
            "top": null,
            "visibility": null,
            "width": null
          }
        },
        "701a1a67991c418fb7b71dbbd90907fa": {
          "model_module": "@jupyter-widgets/controls",
          "model_name": "DescriptionStyleModel",
          "model_module_version": "1.5.0",
          "state": {
            "_model_module": "@jupyter-widgets/controls",
            "_model_module_version": "1.5.0",
            "_model_name": "DescriptionStyleModel",
            "_view_count": null,
            "_view_module": "@jupyter-widgets/base",
            "_view_module_version": "1.2.0",
            "_view_name": "StyleView",
            "description_width": ""
          }
        },
        "c03fb21e01754ee889b89e42c2516ac1": {
          "model_module": "@jupyter-widgets/base",
          "model_name": "LayoutModel",
          "model_module_version": "1.2.0",
          "state": {
            "_model_module": "@jupyter-widgets/base",
            "_model_module_version": "1.2.0",
            "_model_name": "LayoutModel",
            "_view_count": null,
            "_view_module": "@jupyter-widgets/base",
            "_view_module_version": "1.2.0",
            "_view_name": "LayoutView",
            "align_content": null,
            "align_items": null,
            "align_self": null,
            "border": null,
            "bottom": null,
            "display": null,
            "flex": null,
            "flex_flow": null,
            "grid_area": null,
            "grid_auto_columns": null,
            "grid_auto_flow": null,
            "grid_auto_rows": null,
            "grid_column": null,
            "grid_gap": null,
            "grid_row": null,
            "grid_template_areas": null,
            "grid_template_columns": null,
            "grid_template_rows": null,
            "height": null,
            "justify_content": null,
            "justify_items": null,
            "left": null,
            "margin": null,
            "max_height": null,
            "max_width": null,
            "min_height": null,
            "min_width": null,
            "object_fit": null,
            "object_position": null,
            "order": null,
            "overflow": null,
            "overflow_x": null,
            "overflow_y": null,
            "padding": null,
            "right": null,
            "top": null,
            "visibility": null,
            "width": null
          }
        },
        "41a8709e1e8f445788ca54a4e371db46": {
          "model_module": "@jupyter-widgets/controls",
          "model_name": "ProgressStyleModel",
          "model_module_version": "1.5.0",
          "state": {
            "_model_module": "@jupyter-widgets/controls",
            "_model_module_version": "1.5.0",
            "_model_name": "ProgressStyleModel",
            "_view_count": null,
            "_view_module": "@jupyter-widgets/base",
            "_view_module_version": "1.2.0",
            "_view_name": "StyleView",
            "bar_color": null,
            "description_width": ""
          }
        },
        "5c38a711932f4d279c5736b400867b61": {
          "model_module": "@jupyter-widgets/base",
          "model_name": "LayoutModel",
          "model_module_version": "1.2.0",
          "state": {
            "_model_module": "@jupyter-widgets/base",
            "_model_module_version": "1.2.0",
            "_model_name": "LayoutModel",
            "_view_count": null,
            "_view_module": "@jupyter-widgets/base",
            "_view_module_version": "1.2.0",
            "_view_name": "LayoutView",
            "align_content": null,
            "align_items": null,
            "align_self": null,
            "border": null,
            "bottom": null,
            "display": null,
            "flex": null,
            "flex_flow": null,
            "grid_area": null,
            "grid_auto_columns": null,
            "grid_auto_flow": null,
            "grid_auto_rows": null,
            "grid_column": null,
            "grid_gap": null,
            "grid_row": null,
            "grid_template_areas": null,
            "grid_template_columns": null,
            "grid_template_rows": null,
            "height": null,
            "justify_content": null,
            "justify_items": null,
            "left": null,
            "margin": null,
            "max_height": null,
            "max_width": null,
            "min_height": null,
            "min_width": null,
            "object_fit": null,
            "object_position": null,
            "order": null,
            "overflow": null,
            "overflow_x": null,
            "overflow_y": null,
            "padding": null,
            "right": null,
            "top": null,
            "visibility": null,
            "width": null
          }
        },
        "14cd4f024eb04f6192bb2ba859dbd302": {
          "model_module": "@jupyter-widgets/controls",
          "model_name": "DescriptionStyleModel",
          "model_module_version": "1.5.0",
          "state": {
            "_model_module": "@jupyter-widgets/controls",
            "_model_module_version": "1.5.0",
            "_model_name": "DescriptionStyleModel",
            "_view_count": null,
            "_view_module": "@jupyter-widgets/base",
            "_view_module_version": "1.2.0",
            "_view_name": "StyleView",
            "description_width": ""
          }
        }
      }
    }
  },
  "nbformat": 4,
  "nbformat_minor": 5
}